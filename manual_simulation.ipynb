{
 "cells": [
  {
   "cell_type": "code",
   "execution_count": 12,
   "metadata": {},
   "outputs": [],
   "source": [
    "import pandas as pd\n",
    "import numpy as np\n",
    "import math"
   ]
  },
  {
   "cell_type": "code",
   "execution_count": 18,
   "metadata": {},
   "outputs": [],
   "source": [
    "import numpy as np\n",
    "\n",
    "# Re-defining constants and parameters\n",
    "n_simulations = 1000\n",
    "min_bid = 900\n",
    "max_bid = 1000\n",
    "bid_increment = 1\n",
    "resale_value = 1000\n",
    "\n",
    "# Corrected function for calculating expected profit based on the updated strategy\n",
    "def calculate_updated_expected_profit(lower_bid, higher_bid, reserve_prices, resale_value):\n",
    "    \"\"\"\n",
    "    Calculates the expected profit given a lower bid and a higher bid, offered sequentially in the correct order.\n",
    "    \"\"\"\n",
    "    # Sellers that accept the lower bid\n",
    "    accept_lower_bid = reserve_prices[reserve_prices <= lower_bid]\n",
    "    \n",
    "    # Sellers that do not accept the lower bid but accept the higher bid\n",
    "    accept_higher_bid = reserve_prices[(reserve_prices > lower_bid) & (reserve_prices <= higher_bid)]\n",
    "    \n",
    "    # Calculate total profit\n",
    "    profit_from_lower_bid = len(accept_lower_bid) * (resale_value - lower_bid)\n",
    "    profit_from_higher_bid = len(accept_higher_bid) * (resale_value - higher_bid)\n",
    "    \n",
    "    total_profit = profit_from_lower_bid + profit_from_higher_bid\n",
    "    return total_profit\n",
    "\n",
    "# Re-running the simulation with the strategy of offering a lower bid first, then a higher bid\n",
    "res = []\n",
    "\n",
    "for i in range(n_simulations):\n",
    "    reserve_prices = np.random.triangular(left=min_bid, mode=max_bid, right=max_bid, size=10000)\n",
    "    max_profit = 0\n",
    "    optimal_lower_bid = 0\n",
    "    optimal_higher_bid = 0\n",
    "    for lower_bid in range(min_bid, max_bid, bid_increment):\n",
    "        for higher_bid in range(lower_bid + bid_increment, max_bid + bid_increment, bid_increment):\n",
    "            total_profit = calculate_updated_expected_profit(lower_bid, higher_bid, reserve_prices, resale_value)\n",
    "            if total_profit > max_profit:\n",
    "                max_profit = total_profit\n",
    "                optimal_lower_bid = lower_bid\n",
    "                optimal_higher_bid = higher_bid\n",
    "        \n",
    "        res.append([optimal_lower_bid, optimal_higher_bid, max_profit])"
   ]
  },
  {
   "cell_type": "code",
   "execution_count": 19,
   "metadata": {},
   "outputs": [
    {
     "name": "stdout",
     "output_type": "stream",
     "text": [
      "938.26\n",
      "974.24763\n",
      "189615.89716\n"
     ]
    },
    {
     "data": {
      "text/plain": [
       "'\\n938.18828\\n974.20059\\n189797.77504\\n'"
      ]
     },
     "execution_count": 19,
     "metadata": {},
     "output_type": "execute_result"
    }
   ],
   "source": [
    "print(np.mean([x[0] for x in res]))\n",
    "print(np.mean([x[1] for x in res]))\n",
    "print(np.mean([x[2] for x in res]))\n",
    "'''\n",
    "938.18828\n",
    "974.20059\n",
    "189797.77504\n",
    "'''"
   ]
  },
  {
   "cell_type": "code",
   "execution_count": 22,
   "metadata": {},
   "outputs": [
    {
     "data": {
      "text/plain": [
       "False"
      ]
     },
     "execution_count": 22,
     "metadata": {},
     "output_type": "execute_result"
    }
   ],
   "source": [
    "starfruit_cache = {\n",
    "        \"vwap\": 1,\n",
    "        \"vwap_-1\": 1,\n",
    "        \"vwap_-2\": 1,\n",
    "        \"vwap_change\": 1,\n",
    "        \"imbalance_volume_signed\": 1,\n",
    "        \"best_mean\": 1,\n",
    "        \"best_mean_-1\": 1,\n",
    "        \"best_mean_-2\": 1,\n",
    "    }\n",
    "\n",
    "None in starfruit_cache.values()"
   ]
  }
 ],
 "metadata": {
  "kernelspec": {
   "display_name": "Python 3",
   "language": "python",
   "name": "python3"
  },
  "language_info": {
   "codemirror_mode": {
    "name": "ipython",
    "version": 3
   },
   "file_extension": ".py",
   "mimetype": "text/x-python",
   "name": "python",
   "nbconvert_exporter": "python",
   "pygments_lexer": "ipython3",
   "version": "3.10.5"
  }
 },
 "nbformat": 4,
 "nbformat_minor": 2
}
